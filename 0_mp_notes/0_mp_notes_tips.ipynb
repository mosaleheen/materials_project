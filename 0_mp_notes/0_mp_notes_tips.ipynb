{
 "cells": [
  {
   "cell_type": "markdown",
   "metadata": {},
   "source": [
    "### Materials Project Notes"
   ]
  },
  {
   "cell_type": "markdown",
   "metadata": {},
   "source": [
    "A container of useful links and information about materials project."
   ]
  },
  {
   "cell_type": "markdown",
   "metadata": {},
   "source": [
    "**1.** Link to ***MPRester*** and documentation,  \n",
    "https://pymatgen.org/pymatgen.ext.matproj.html"
   ]
  },
  {
   "cell_type": "markdown",
   "metadata": {},
   "source": [
    "**2.** Materials project api documentaion, ***MAPIdoc***,  \n",
    "https://materialsproject.org/docs/api"
   ]
  },
  {
   "cell_type": "markdown",
   "metadata": {},
   "source": [
    "**3.** ***Pseudopotentials*** used in materials project calculations,  \n",
    "https://wiki.materialsproject.org/Pseudopotentials_Choice#d-elements.2C_transition_metals"
   ]
  },
  {
   "cell_type": "markdown",
   "metadata": {},
   "source": [
    "**4.** GGA+U recommended ***U values*** in materials project,  \n",
    "https://wiki.materialsproject.org/GGA%2BU_calculations,  \n",
    "***MP forum:*** https://discuss.matsci.org/t/gga-u-recommended-u-values/669/2"
   ]
  },
  {
   "cell_type": "markdown",
   "metadata": {},
   "source": [
    "**5.** How to get ***structures and vasp inputs*** using MPRester and Structure,  \n",
    "https://discuss.matsci.org/t/query-to-get-vasp-input/1791"
   ]
  },
  {
   "cell_type": "markdown",
   "metadata": {},
   "source": [
    "**6.** ***MATSci discussion forum*** that contains MP, matminer, pymatgen, atomate, and fireworks,  \n",
    "https://discuss.matsci.org/"
   ]
  },
  {
   "cell_type": "markdown",
   "metadata": {},
   "source": [
    "**7.** Materials project ****calculations guide****.  \n",
    "https://materialsproject.org/docs/calculations"
   ]
  },
  {
   "cell_type": "markdown",
   "metadata": {},
   "source": [
    "**8. Matminer** featurizer summary  \n",
    "https://hackingmaterials.lbl.gov/matminer/featurizer_summary.html"
   ]
  },
  {
   "cell_type": "markdown",
   "metadata": {},
   "source": [
    "**9. Pymatgen** examples and documentation   \n",
    "https://pymatgen.org/index.html#matgenie-examples"
   ]
  },
  {
   "cell_type": "markdown",
   "metadata": {},
   "source": [
    "**10.** Way to get **elasticity predictions** from materials project  \n",
    "https://discuss.matsci.org/t/obtaining-elasticity-predictions-bulk-and-shear-modulus/826"
   ]
  },
  {
   "cell_type": "code",
   "execution_count": null,
   "metadata": {},
   "outputs": [],
   "source": []
  }
 ],
 "metadata": {
  "kernelspec": {
   "display_name": "Python 3",
   "language": "python",
   "name": "python3"
  },
  "language_info": {
   "codemirror_mode": {
    "name": "ipython",
    "version": 3
   },
   "file_extension": ".py",
   "mimetype": "text/x-python",
   "name": "python",
   "nbconvert_exporter": "python",
   "pygments_lexer": "ipython3",
   "version": "3.7.3"
  }
 },
 "nbformat": 4,
 "nbformat_minor": 2
}
