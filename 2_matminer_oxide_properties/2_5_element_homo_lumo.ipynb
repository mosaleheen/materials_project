{
 "cells": [
  {
   "cell_type": "code",
   "execution_count": 1,
   "metadata": {},
   "outputs": [],
   "source": [
    "import pandas as pd\n",
    "import numpy as np\n",
    "import matplotlib.pyplot as plt\n",
    "import seaborn as sns\n",
    "from matminer.data_retrieval.retrieve_Citrine import CitrineDataRetrieval\n",
    "from pymatgen.ext.matproj import MPRester"
   ]
  },
  {
   "cell_type": "code",
   "execution_count": 2,
   "metadata": {},
   "outputs": [],
   "source": [
    "api_key = 'Id6azt1PYxWaioYsjJyi9Qtt'\n",
    "citrine = CitrineDataRetrieval(api_key)\n",
    "mp_key = '3ZvdRbGJX2dwZIaljnX'\n",
    "mp = MPRester(mp_key)"
   ]
  },
  {
   "cell_type": "code",
   "execution_count": 4,
   "metadata": {},
   "outputs": [],
   "source": [
    "\n",
    "import pymatgen as pm\n",
    "from pymatgen.core.structure import Structure\n",
    "from pymatgen.core.composition import Composition\n",
    "from matminer.featurizers.conversions import *\n",
    "from matminer.featurizers.composition import *\n",
    "from matminer.featurizers.structure import *\n",
    "from matminer.featurizers.site import *"
   ]
  },
  {
   "cell_type": "code",
   "execution_count": null,
   "metadata": {},
   "outputs": [],
   "source": [
    "oxides = ['Ac','Ag','Al','As','Au','B','Ba','Be','Bi','Ca','Cd','Ce','Co','Cr','Cs','Cu','Dy','Er','Eu','Fe','Ga','Gd',\n",
    "          'Ge','Hf','Hg','Ho','I','In','Ir','K','La','Li','Lu','Mn','Mo','Na','Nb','Nd','Ni','Np','Os','P','Pa','Pb',\n",
    "          'Pd','Pm','Pr','Pt','Pu','Rb','Re','Rh','Ru','Sb','Sc','Se','Si','Sm','Sn','Sr','Ta','Tb','Tc','Te','Th','Ti',\n",
    "          'Tl','Tm','U','V','W','Y','Yb','Zn','Zr']"
   ]
  },
  {
   "cell_type": "code",
   "execution_count": null,
   "metadata": {},
   "outputs": [],
   "source": []
  },
  {
   "cell_type": "code",
   "execution_count": 36,
   "metadata": {},
   "outputs": [
    {
     "name": "stdout",
     "output_type": "stream",
     "text": [
      "oxides\thomo\tlumo\thl_gap\n",
      "Ac\t-0.138\t-0.138\t 0.000\n",
      "Ag\t-0.157\t-0.157\t 0.000\n",
      "Al\t-0.103\t-0.103\t 0.000\n",
      "As\t-0.197\t-0.197\t 0.000\n",
      "Au\t-0.162\t-0.162\t 0.000\n",
      "B\t-0.137\t-0.137\t 0.000\n",
      "Bi\t-0.180\t-0.180\t 0.000\n",
      "Ce\t-0.337\t-0.337\t 0.000\n",
      "Co\t-0.322\t-0.322\t 0.000\n",
      "Cr\t-0.118\t-0.118\t 0.000\n",
      "Cs\t-0.079\t-0.079\t 0.000\n",
      "Cu\t-0.172\t-0.172\t 0.000\n",
      "Dy\t-0.265\t-0.265\t 0.000\n",
      "Er\t-0.279\t-0.135\t 0.144\n",
      "Eu\t-0.233\t-0.233\t 0.000\n",
      "Fe\t-0.295\t-0.295\t 0.000\n",
      "Ga\t-0.102\t-0.102\t 0.000\n",
      "Gd\t-0.489\t-0.489\t 0.000\n",
      "Ge\t-0.150\t-0.150\t 0.000\n",
      "Hf\t-0.144\t-0.144\t 0.000\n",
      "Ho\t-0.273\t-0.273\t 0.000\n",
      "I\t-0.268\t-0.268\t 0.000\n",
      "In\t-0.102\t-0.102\t 0.000\n",
      "Ir\t-0.335\t-0.335\t 0.000\n",
      "K\t-0.089\t-0.089\t 0.000\n",
      "La\t-0.141\t-0.141\t 0.000\n",
      "Li\t-0.106\t-0.106\t 0.000\n",
      "Lu\t-0.104\t-0.104\t 0.000\n",
      "Mn\t-0.267\t-0.267\t 0.000\n",
      "Mo\t-0.153\t-0.153\t 0.000\n",
      "Na\t-0.103\t-0.103\t 0.000\n",
      "Nb\t-0.125\t-0.125\t 0.000\n",
      "Nd\t-0.180\t-0.180\t 0.000\n",
      "Ni\t-0.349\t-0.211\t 0.138\n",
      "Os\t-0.297\t-0.297\t 0.000\n",
      "P\t-0.206\t-0.206\t 0.000\n",
      "Pa\t-0.317\t-0.317\t 0.000\n",
      "Pb\t-0.142\t-0.142\t 0.000\n",
      "Pm\t-0.200\t-0.200\t 0.000\n",
      "Pr\t-0.155\t-0.155\t 0.000\n",
      "Pt\t-0.274\t-0.161\t 0.112\n",
      "Rb\t-0.085\t-0.085\t 0.000\n",
      "Re\t-0.259\t-0.259\t 0.000\n",
      "Rh\t-0.239\t-0.239\t 0.000\n",
      "Ru\t-0.210\t-0.210\t 0.000\n",
      "Sb\t-0.186\t-0.186\t 0.000\n",
      "Sc\t-0.131\t-0.131\t 0.000\n",
      "Se\t-0.246\t-0.246\t 0.000\n",
      "Si\t-0.153\t-0.153\t 0.000\n",
      "Sm\t-0.218\t-0.218\t 0.000\n",
      "Sn\t-0.144\t-0.144\t 0.000\n",
      "Ta\t-0.182\t-0.182\t 0.000\n",
      "Tb\t-0.256\t-0.256\t 0.000\n",
      "Tc\t-0.270\t-0.270\t 0.000\n",
      "Te\t-0.227\t-0.227\t 0.000\n",
      "Th\t-0.173\t-0.173\t 0.000\n",
      "Ti\t-0.170\t-0.170\t 0.000\n",
      "Tl\t-0.102\t-0.102\t 0.000\n",
      "Tm\t-0.136\t-0.136\t 0.000\n",
      "U\t-0.367\t-0.367\t 0.000\n",
      "V\t-0.205\t-0.205\t 0.000\n",
      "W\t-0.221\t-0.221\t 0.000\n",
      "Y\t-0.109\t-0.109\t 0.000\n",
      "Zr\t-0.151\t-0.151\t 0.000\n"
     ]
    }
   ],
   "source": [
    "# homo, lumo, and homo-lumo gap\n",
    "# excluded elements : 'Ba','Be','Ca','Cd','Hg','Mg','Np','Pd','Pu','Sr','Yb','Zn',\n",
    "elements = ['Ac','Ag','Al','As','Au','B','Bi','Ce','Co','Cr','Cs','Cu','Dy','Er','Eu','Fe','Ga','Gd',\n",
    "          'Ge','Hf','Ho','I','In','Ir','K','La','Li','Lu','Mn','Mo','Na','Nb','Nd','Ni','Os','P','Pa','Pb',\n",
    "          'Pm','Pr','Pt','Rb','Re','Rh','Ru','Sb','Sc','Se','Si','Sm','Sn','Ta','Tb','Tc','Te','Th','Ti',\n",
    "          'Tl','Tm','U','V','W','Y','Zr']\n",
    "print('{}\\t{}\\t{}\\t{}'.format('oxides','homo','lumo','hl_gap'))\n",
    "for element in elements:\n",
    "    comp_element = Composition(element)\n",
    "    orbitals = AtomicOrbitals().featurize(comp_element)\n",
    "    #print(element, orbitals)\n",
    "    print('{}\\t{:6.3f}\\t{:6.3f}\\t{:6.3f}'.format(element, orbitals[2], orbitals[5], orbitals[6]))"
   ]
  },
  {
   "cell_type": "code",
   "execution_count": null,
   "metadata": {},
   "outputs": [],
   "source": []
  }
 ],
 "metadata": {
  "kernelspec": {
   "display_name": "Python 3",
   "language": "python",
   "name": "python3"
  },
  "language_info": {
   "codemirror_mode": {
    "name": "ipython",
    "version": 3
   },
   "file_extension": ".py",
   "mimetype": "text/x-python",
   "name": "python",
   "nbconvert_exporter": "python",
   "pygments_lexer": "ipython3",
   "version": "3.7.3"
  }
 },
 "nbformat": 4,
 "nbformat_minor": 2
}
