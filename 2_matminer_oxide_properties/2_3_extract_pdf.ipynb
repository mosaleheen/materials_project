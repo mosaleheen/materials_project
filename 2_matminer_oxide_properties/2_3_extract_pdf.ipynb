{
 "cells": [
  {
   "cell_type": "code",
   "execution_count": 2,
   "metadata": {},
   "outputs": [],
   "source": [
    "import PyPDF2 as p2\n",
    "import re"
   ]
  },
  {
   "cell_type": "code",
   "execution_count": 3,
   "metadata": {},
   "outputs": [],
   "source": [
    "pdf_data = open('handbook_chemistry_physics.pdf','rb')"
   ]
  },
  {
   "cell_type": "code",
   "execution_count": 10,
   "metadata": {},
   "outputs": [],
   "source": [
    "# oxides = ['Ac 2 O 3','Ag 2 O','Ag 3 O 4','Ag O','As 2 O 3','As 2 O 5','Au 2 O 3','B 2 O 3','BaO','BaO2','BeO','Bi2O3','Bi4O7',\n",
    "#           'BiO2','CaO','CdO','Ce11O20','Ce17O32','Ce2O3','Ce5O9','Ce7O12','CeO','CeO2','Co3O4','CoO','CoO2','Cr2O3',\n",
    "#           'Cr5O12','CrO2','Cs11O3','Cs2O','Cs2O2','Cs3O','CsO2','Cu2O','Cu2O3','CuO','Dy2O3','Er2O3','Eu2O3','EuO',\n",
    "#           'Fe2O3','Fe3O4','FeO','Ga2O3','Gd2O3','GeO2','HfO2','HgO','Ho2O3','I2O5','In2O3','IrO2','IrO3','K2O',\n",
    "#           'K2O2','KO2','La2O3','Li2O','Li2O2','Lu2O3','MgO','Mn2O3','Mn3O4','MnO','MnO2','Mo8O23','MoO2','MoO3',\n",
    "#           'Na2O','Na2O2','NaO2','Nb2O5','NbO','NbO2','Nd2O3','Ni3O4','NiO','NpO2','OsO2','OsO4','P2O5','PaO2',\n",
    "#           'PaO3','Pb3O4','PbO','PbO2','PdO','PdO2','Pm2O3','Pr2O3','Pt3O4','PtO2','Pu2O3','PuO2','Rb2O','Rb2O2',\n",
    "#           'Rb9O2','RbO2','Re2O7','ReO3','RhO2','RuO2','RuO4','Sb2O3','Sb2O5','SbO2','Sc2O3','Se2O5','SeO2','SiO2',\n",
    "#           'Sm2O3','Sn5O6','SnO','SnO2','SrO','SrO2','Ta2O5','Tb2O3','Tc2O7','TcO2','Te2O5','TeO2','TeO3','ThO2',\n",
    "#           'Ti2O','Ti2O3','Ti3O','Ti3O5','Ti6O','TiO','TiO2','Tl2O','Tl2O3','Tl4O3','Tm2O3','U3O8','UO2','UO3',\n",
    "#           'V2O3','V2O5','V3O5','V3O7','VO2','W18O49','WO2','WO3','Y2O3','YbO','ZnO','Zr3O','ZrO2']\n",
    "\n",
    "# pdf_read = p2.PdfFileReader(pdf_data)\n",
    "# pages = range(850,872)\n",
    "# for page in pages:\n",
    "#     x = pdf_read.getPage(page)\n",
    "#     extracted = x.extractText()\n",
    "#     for item in extracted.split('\\n'):\n",
    "#         for oxide in oxides:\n",
    "#             ox = [a for a in re.split(r'([A-Z][a-z]*\\d*)', oxide) if a]\n",
    "#             xo = ox[::-1]\n",
    "#             xo = ''.join(xo)\n",
    "#             if any (s in item for s in (oxide,xo)):\n",
    "#                 print(item)"
   ]
  },
  {
   "cell_type": "code",
   "execution_count": 13,
   "metadata": {},
   "outputs": [
    {
     "name": "stdout",
     "output_type": "stream",
     "text": [
      "Ag 2 OSilver(I) oxide-31.1-11.2121.365.9\n",
      "Ag 2 O 2 Silver(II) oxide-24.327.6117.088.0\n",
      "Ag 2 O 3 Silver(III) oxide33.9121.4100.0\n",
      "-2628.0Al 2 I 6 Aluminum hexaiodide-516.7Al 2 OAluminum oxide (Al 2 O)-130.0-159.0259.445.7\n",
      "Al 2 O 3 Aluminum oxide (corundum)-1675.7-1582.350.979.0\n",
      "As 2 O 5 Arsenic(V) oxide-924.9-782.3105.4116.5\n",
      "B 2 O 3 Boron oxide-1273.5-1194.354.062.8-843.8-832.0279.866.9\n",
      "fH¡kJ/molfG¡kJ/molS¡J/mol KCpJ/mol KfH¡kJ/molfG¡kJ/molS¡J/mol KCpJ/mol KfH¡kJ/molfG¡kJ/molS¡J/mol KCpJ/mol KBaOBarium oxide-548.0-520.372.147.3-112.0\n",
      "BeOBeryllium oxide-609.4-580.113.825.6\n",
      "Bi2O3Bismuth oxide-573.9-493.7151.5113.5\n",
      "CaOCalcium oxide-634.9-603.338.142.0\n",
      "CdOCadmium oxide-258.4-228.754.843.4\n",
      "CeO2Cerium(IV) oxide-1088.7-1024.662.361.6\n",
      "Ce2O3Cerium(III) oxide-1796.2-1706.2150.6114.6\n",
      "ClOChlorine oxide\n",
      "CoOCobalt(II) oxide-237.9-214.253.055.2\n",
      "Co3O4Cobalt(II,III) oxide-891.0-774.0102.5123.4\n",
      "CrO2Chromium(IV) oxide-598.0\n",
      "CrO3Chromium(VI) oxide-292.9266.256.0\n",
      "Cr2FeO4Chromium iron oxide-1444.7-1343.8146.0133.6\n",
      "Cr2O3Chromium(III) oxide-1139.7-1058.181.2118.7\n",
      "Cr3O4Chromium(II,III) oxide-1531.0\n",
      "Cs2OCesium oxide-345.8-308.1146.976.0\n",
      "CuOCopper(II) oxide-157.3-129.742.642.3\n",
      "Cu2OCopper(I) oxide-168.6-146.093.163.6\n",
      "Dy2O3Dysprosium(III) oxide-1863.1-1771.5149.8116.3\n",
      "Er2O3Erbium oxide-1897.9-1808.7155.6108.5\n",
      "Eu2O3Europium(III) oxide-1651.4-1556.8146.0122.2\n",
      "Eu3O4Europium(II,III) oxide-2272.0-2142.0205.0\n",
      "FOFluorine oxide\n",
      "FeOIron(II) oxide-272.0\n",
      "Fe2O3Iron(III) oxide-824.2-742.287.4103.9\n",
      "Fe3O4Iron(II,III) oxide-1118.4-1015.4146.4143.4\n",
      "Ga2O3Gallium(III) oxide-1089.1-998.385.092.1\n",
      "Gd2O3Gadolinium(III) oxide-1819.6106.7\n",
      "GeOGermanium(II) oxide-261.9-237.250.0-46.2-73.2224.330.9\n",
      "GeO2Germanium(IV) oxide-580.0-521.439.752.1\n",
      "HfO2Hafnium oxide-1144.7-1088.259.360.3\n",
      "HgOMercury(II) oxide-90.8-58.570.344.1\n",
      "Ho2O3Holmium oxide-1880.7-1791.1158.2115.0\n",
      "In2Diindium380.9In2O3Indium(III) oxide-925.8-830.7104.292.0\n",
      "IrO2Iridium(IV) oxide-274.157.3\n",
      "K2OPotassium oxide-361.5\n",
      "La2O3Lanthanum oxide-1793.7-1705.8127.3108.8\n",
      "Li2OLithium oxide-597.9-561.237.654.1\n",
      "Lu2O3Lutetium oxide-1878.2-1789.0110.0101.8\n",
      "MgOMagnesium oxide-601.6-569.327.037.2\n",
      "MnOManganese(II) oxide-385.2-362.959.745.4\n",
      "MnO2Manganese(IV) oxide-520.0-465.153.154.1\n",
      "Mn2O3Manganese(III) oxide-959.0-881.1110.5107.7\n",
      "Mn3O4Manganese(II,III) oxide-1387.8-1283.2155.6139.7\n",
      "MoO2Molybdenum(IV) oxide-588.9-533.046.356.0\n",
      "MoO3Molybdenum(VI) oxide-745.1-668.077.775.0\n",
      "NONitric oxide\n",
      "N2ONitrous oxide81.6103.7220.038.6\n",
      "Na2OSodium oxide-414.2-375.575.169.1\n",
      "NbONiobium(II) oxide-405.8-378.648.141.3\n",
      "NbO2Niobium(IV) oxide-796.2-740.554.557.5\n",
      "Nb2O5Niobium(V) oxide-1899.5-1766.0137.2132.1\n",
      "Nd2O3Neodymium oxide-1807.9-1720.8158.6111.3\n",
      "Ni2O3Nickel(III) oxide-489.5\n",
      "OPbLead(II) oxide (massicot)-217.3-187.968.745.8\n",
      "OPbLead(II) oxide (litharge)-219.0-188.966.545.8\n",
      "OPdPalladium(II) oxide-85.431.4348.9325.9218.0\n",
      "ORaRadium oxide-523.0\n",
      "ORb2Rubidium oxide-339.0\n",
      "OSnTin(II) oxide-280.7-251.957.244.315.1-8.4232.131.6\n",
      "OSrStrontium oxide-592.0-561.954.445.01.5\n",
      "OTiTitanium(II) oxide-519.7-495.050.040.0\n",
      "OTl2Thallium(I) oxide-178.7-147.3126.0\n",
      "OUUranium(II) oxide\n",
      "21.0OVVanadium(II) oxide-431.8-404.238.945.4\n",
      "OZnZinc oxide-350.5-320.543.740.3\n",
      "O2PbLead(IV) oxide-277.4-217.368.664.6\n",
      "O2RuRuthenium(IV) oxide-305.0\n",
      "O2SnTin(IV) oxide-577.6-515.849.052.6\n",
      "O2ThThorium(IV) oxide-1226.4-1169.265.261.8\n",
      "O2TiTitanium(IV) oxide-944.0-888.850.655.0\n",
      "O2UUranium(IV) oxide-1085.0-1031.877.063.6-465.7-471.5274.651.4\n",
      "O2WTungsten(IV) oxide-589.7-533.950.556.1\n",
      "O2ZrZirconium(IV) oxide-1100.6-1042.850.456.2\n",
      "O3Pr2Praseodymium oxide-1809.6117.4\n",
      "O3Rh2Rhodium(III) oxide-343.0103.8\n",
      "O3Sc2Scandium oxide-1908.8-1819.477.094.2\n",
      "O3Sm2Samarium(III) oxide-1823.0-1734.6151.0114.5\n",
      "O3Tb2Terbium oxide-1865.2115.9\n",
      "O3Ti2Titanium(III) oxide-1520.9-1434.278.897.4\n",
      "O3Tm2Thulium oxide-1888.7-1794.5139.7116.7\n",
      "O3UUranium(VI) oxide-1223.8-1145.796.181.7\n",
      "O3V2Vanadium(III) oxide-1218.8-1139.398.3103.2\n",
      "O3WTungsten(VI) oxide-842.9-764.075.973.8\n",
      "O3Y2Yttrium oxide-1905.3-1816.699.1102.5\n",
      "O3Yb2Ytterbium(III) oxide-1814.6-1726.7133.1115.4\n",
      "O4OsOsmium(VIII) oxide-394.1-304.9143.9-337.2-292.8293.874.1\n",
      "O4Pb3Lead(II,II,IV) oxide-718.4-601.2211.3146.9\n",
      "O4RuRuthenium(VIII) oxide-239.3-152.2146.4\n",
      "O5Sb2Antimony(V) oxide-971.9-829.2125.1\n",
      "O5Ta2Tantalum(V) oxide-2046.0-1911.2143.1135.1\n",
      "O5Ti3Titanium(III,IV) oxide-2459.4-2317.4129.3154.8\n",
      "O5V2Vanadium(V) oxide-1550.6-1419.5131.0127.7\n",
      "O5V3Vanadium(III,IV) oxide-1933.0-1803.0163.0\n",
      "O7Re2Rhenium(VII) oxide-1240.1-1066.0207.1166.1-1100.0-994.0452.0\n",
      "O7U3Uranium(IV,VI) oxide-3427.1-3242.9250.5215.5\n",
      "O8U3Uranium(V,VI) oxide-3574.8-3369.5282.6238.4\n",
      "O9U4Uranium(IV,V) oxide-4510.4-4275.1334.1293.3\n"
     ]
    }
   ],
   "source": [
    "pdf_read = p2.PdfFileReader(pdf_data)\n",
    "pages = range(850,875)\n",
    "for page in pages:\n",
    "    x = pdf_read.getPage(page)\n",
    "    extracted = x.extractText()\n",
    "    for item in extracted.split('\\n'):\n",
    "        if ' oxide' in item:\n",
    "            print(item)"
   ]
  },
  {
   "cell_type": "code",
   "execution_count": null,
   "metadata": {},
   "outputs": [],
   "source": [
    "# x = pdf_read.getPage(853)\n",
    "# extracted = x.extractText()\n",
    "# print(extracted)\n",
    "# for item in extracted.split('\\n'):\n",
    "#     if 'Ba O' in item:\n",
    "#         print(item)\n",
    "\n",
    "# my_string = \"\"\" a quick brown fox\n",
    "# jumps over the lazy dog\"\"\"\n",
    "# for item in my_string.split('\\n'):\n",
    "#     if any (s in item for s in ('tog','frog')):\n",
    "#         print (item.strip())"
   ]
  },
  {
   "cell_type": "code",
   "execution_count": 9,
   "metadata": {},
   "outputs": [],
   "source": [
    "# pdf_read = p2.PdfFileReader(pdf_data)\n",
    "# pages = range(850,906)\n",
    "# for page in pages:\n",
    "#     x = pdf_read.getPage(page)\n",
    "#     extracted = x.extractText()\n",
    "#     print(extracted)\n",
    "#     for item in extracted.split('\\n'):\n",
    "#         for oxide in oxides:\n",
    "#             if oxide in item:\n",
    "#                 print(item)"
   ]
  },
  {
   "cell_type": "code",
   "execution_count": 58,
   "metadata": {},
   "outputs": [
    {
     "name": "stdout",
     "output_type": "stream",
     "text": [
      "SiO4 O4Si\n"
     ]
    }
   ],
   "source": [
    "import re\n",
    "x = 'SiO4'\n",
    "nat = [a for a in re.split(r'([A-Z][a-z]*\\d*)', x) if a]\n",
    "tan = nat[::-1]\n",
    "xp = ''.join(tan)\n",
    "print(x,xp)\n"
   ]
  },
  {
   "cell_type": "code",
   "execution_count": null,
   "metadata": {},
   "outputs": [],
   "source": []
  }
 ],
 "metadata": {
  "kernelspec": {
   "display_name": "Python 3",
   "language": "python",
   "name": "python3"
  },
  "language_info": {
   "codemirror_mode": {
    "name": "ipython",
    "version": 3
   },
   "file_extension": ".py",
   "mimetype": "text/x-python",
   "name": "python",
   "nbconvert_exporter": "python",
   "pygments_lexer": "ipython3",
   "version": "3.7.3"
  }
 },
 "nbformat": 4,
 "nbformat_minor": 2
}
